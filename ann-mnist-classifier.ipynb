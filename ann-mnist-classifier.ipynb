{
 "cells": [
  {
   "cell_type": "markdown",
   "metadata": {},
   "source": [
    "# MNIST Classifier using an Vanilla Neural Network"
   ]
  },
  {
   "cell_type": "code",
   "execution_count": 1,
   "metadata": {},
   "outputs": [
    {
     "name": "stderr",
     "output_type": "stream",
     "text": [
      "Using TensorFlow backend.\n"
     ]
    }
   ],
   "source": [
    "from keras.datasets import mnist\n",
    "from keras.models import Sequential, load_model\n",
    "from keras.layers.core import Dense, Dropout, Activation\n",
    "from keras.utils import np_utils\n",
    "\n",
    "import numpy as np\n",
    "import matplotlib.pyplot as plt"
   ]
  },
  {
   "cell_type": "code",
   "execution_count": 2,
   "metadata": {},
   "outputs": [
    {
     "name": "stdout",
     "output_type": "stream",
     "text": [
      "TRAIN X shape:  (60000, 28, 28)\n",
      "TEST X shape:  (10000, 28, 28)\n"
     ]
    }
   ],
   "source": [
    "(trainx, trainy), (testx, testy) = mnist.load_data()\n",
    "\n",
    "print('TRAIN X shape: ', trainx.shape)\n",
    "print('TEST X shape: ', testx.shape)"
   ]
  },
  {
   "cell_type": "code",
   "execution_count": 3,
   "metadata": {},
   "outputs": [],
   "source": [
    "# RESHAPING AND REFORMATTING DATA\n",
    "DIMS = trainx.shape[1] * trainx.shape[2]\n",
    "trainx = trainx.reshape(trainx.shape[0], DIMS).astype('float32')\n",
    "testx = testx.reshape(testx.shape[0], DIMS).astype('float32')\n",
    "\n",
    "trainy = np_utils.to_categorical(trainy)     # converts classes to one-hot encoding\n",
    "testy = np_utils.to_categorical(testy)\n",
    "\n",
    "# NORMALIZING\n",
    "trainx = trainx / 255.\n",
    "testx = testx / 255."
   ]
  },
  {
   "cell_type": "code",
   "execution_count": 4,
   "metadata": {},
   "outputs": [],
   "source": [
    "# MODELING\n",
    "model = Sequential()\n",
    "model.add(Dense(512, input_shape=(DIMS,), activation='relu'))\n",
    "model.add(Dropout(0.2))\n",
    "model.add(Dense(512, activation='relu'))\n",
    "model.add(Dropout(0.2))\n",
    "model.add(Dense(10, activation='softmax'))\n",
    "\n",
    "model.compile(loss='categorical_crossentropy', optimizer='adam', metrics=['accuracy'])"
   ]
  },
  {
   "cell_type": "code",
   "execution_count": 5,
   "metadata": {},
   "outputs": [
    {
     "name": "stdout",
     "output_type": "stream",
     "text": [
      "Train on 60000 samples, validate on 10000 samples\n",
      "Epoch 1/20\n",
      "60000/60000 [==============================] - 10s 162us/step - loss: 0.2448 - acc: 0.9263 - val_loss: 0.0984 - val_acc: 0.9702\n",
      "Epoch 2/20\n",
      "60000/60000 [==============================] - 9s 157us/step - loss: 0.1006 - acc: 0.9688 - val_loss: 0.0768 - val_acc: 0.9754\n",
      "Epoch 3/20\n",
      "60000/60000 [==============================] - 11s 181us/step - loss: 0.0712 - acc: 0.9780 - val_loss: 0.0637 - val_acc: 0.9789\n",
      "Epoch 4/20\n",
      "60000/60000 [==============================] - 9s 154us/step - loss: 0.0558 - acc: 0.9826 - val_loss: 0.0704 - val_acc: 0.9784\n",
      "Epoch 5/20\n",
      "60000/60000 [==============================] - 8s 139us/step - loss: 0.0433 - acc: 0.9860 - val_loss: 0.0684 - val_acc: 0.9799\n",
      "Epoch 6/20\n",
      "60000/60000 [==============================] - 8s 137us/step - loss: 0.0392 - acc: 0.9873 - val_loss: 0.0625 - val_acc: 0.9823\n",
      "Epoch 7/20\n",
      "60000/60000 [==============================] - 8s 138us/step - loss: 0.0351 - acc: 0.9890 - val_loss: 0.0656 - val_acc: 0.9805\n",
      "Epoch 8/20\n",
      "60000/60000 [==============================] - 8s 137us/step - loss: 0.0310 - acc: 0.9895 - val_loss: 0.0651 - val_acc: 0.9813\n",
      "Epoch 9/20\n",
      "60000/60000 [==============================] - 8s 140us/step - loss: 0.0278 - acc: 0.9904 - val_loss: 0.0759 - val_acc: 0.9792\n",
      "Epoch 10/20\n",
      "60000/60000 [==============================] - 8s 138us/step - loss: 0.0251 - acc: 0.9916 - val_loss: 0.0725 - val_acc: 0.9803\n",
      "Epoch 11/20\n",
      "60000/60000 [==============================] - 8s 136us/step - loss: 0.0238 - acc: 0.9924 - val_loss: 0.0680 - val_acc: 0.9836\n",
      "Epoch 12/20\n",
      "60000/60000 [==============================] - 9s 143us/step - loss: 0.0219 - acc: 0.9929 - val_loss: 0.0768 - val_acc: 0.9822\n",
      "Epoch 13/20\n",
      "60000/60000 [==============================] - 8s 139us/step - loss: 0.0205 - acc: 0.9934 - val_loss: 0.0788 - val_acc: 0.9816\n",
      "Epoch 14/20\n",
      "60000/60000 [==============================] - 8s 138us/step - loss: 0.0195 - acc: 0.9931 - val_loss: 0.0654 - val_acc: 0.9846\n",
      "Epoch 15/20\n",
      "60000/60000 [==============================] - 11s 187us/step - loss: 0.0170 - acc: 0.9945 - val_loss: 0.0635 - val_acc: 0.9844\n",
      "Epoch 16/20\n",
      "60000/60000 [==============================] - 14s 236us/step - loss: 0.0167 - acc: 0.9946 - val_loss: 0.0741 - val_acc: 0.9841\n",
      "Epoch 17/20\n",
      "60000/60000 [==============================] - 14s 227us/step - loss: 0.0163 - acc: 0.9945 - val_loss: 0.0715 - val_acc: 0.9845\n",
      "Epoch 18/20\n",
      "60000/60000 [==============================] - 11s 186us/step - loss: 0.0194 - acc: 0.9935 - val_loss: 0.0793 - val_acc: 0.9820\n",
      "Epoch 19/20\n",
      "60000/60000 [==============================] - 10s 163us/step - loss: 0.0164 - acc: 0.9947 - val_loss: 0.0668 - val_acc: 0.9835\n",
      "Epoch 20/20\n",
      "60000/60000 [==============================] - 13s 221us/step - loss: 0.0125 - acc: 0.9959 - val_loss: 0.0655 - val_acc: 0.9842\n"
     ]
    }
   ],
   "source": [
    "# TRAINING\n",
    "epochs = 20\n",
    "history = model.fit(trainx, trainy, \n",
    "                    batch_size=128,\n",
    "                    epochs=epochs,\n",
    "                    validation_data=(testx, testy))"
   ]
  },
  {
   "cell_type": "code",
   "execution_count": 6,
   "metadata": {},
   "outputs": [
    {
     "data": {
      "text/plain": [
       "<matplotlib.legend.Legend at 0x1258d9400>"
      ]
     },
     "execution_count": 6,
     "metadata": {},
     "output_type": "execute_result"
    },
    {
     "data": {
      "image/png": "[encoded data removed]",
      "text/plain": [
       "<Figure size 432x288 with 1 Axes>"
      ]
     },
     "metadata": {
      "needs_background": "light"
     },
     "output_type": "display_data"
    }
   ],
   "source": [
    "plt.plot(range(epochs), history.history['loss'], label='Training Loss')\n",
    "plt.plot(range(epochs), history.history['val_loss'], label='Test Loss')\n",
    "plt.legend(loc='upper right')"
   ]
  },
  {
   "cell_type": "code",
   "execution_count": 7,
   "metadata": {},
   "outputs": [
    {
     "data": {
      "text/plain": [
       "<matplotlib.legend.Legend at 0x1259edac8>"
      ]
     },
     "execution_count": 7,
     "metadata": {},
     "output_type": "execute_result"
    },
    {
     "data": {
      "image/png": "[encoded data removed]",
      "text/plain": [
       "<Figure size 432x288 with 1 Axes>"
      ]
     },
     "metadata": {
      "needs_background": "light"
     },
     "output_type": "display_data"
    }
   ],
   "source": [
    "plt.plot(range(epochs), history.history['acc'], label='Training Accuracy')\n",
    "plt.plot(range(epochs), history.history['val_acc'], label='Test Accuracy')\n",
    "plt.legend(loc='lower right')"
   ]
  },
  {
   "cell_type": "markdown",
   "metadata": {},
   "source": [
    "### Final Training Loss: 0.0125\n",
    "### Final Test Loss: 0.0655\n",
    "\n",
    "### Final Training Accuracy: 99.59%\n",
    "### Final Test Accuracy: 98.42%"
   ]
  }
 ],
 "metadata": {
  "kernelspec": {
   "display_name": "Python 3",
   "language": "python",
   "name": "python3"
  },
  "language_info": {
   "codemirror_mode": {
    "name": "ipython",
    "version": 3
   },
   "file_extension": ".py",
   "mimetype": "text/x-python",
   "name": "python",
   "nbconvert_exporter": "python",
   "pygments_lexer": "ipython3",
   "version": "3.6.8"
  }
 },
 "nbformat": 4,
 "nbformat_minor": 2
}
