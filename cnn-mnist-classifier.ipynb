{
 "cells": [
  {
   "cell_type": "markdown",
   "metadata": {},
   "source": [
    "# MNIST Classifier using an Convolutional Neural Network"
   ]
  },
  {
   "cell_type": "code",
   "execution_count": 1,
   "metadata": {},
   "outputs": [
    {
     "name": "stderr",
     "output_type": "stream",
     "text": [
      "Using TensorFlow backend.\n"
     ]
    }
   ],
   "source": [
    "from keras.datasets import mnist\n",
    "from keras.models import Sequential\n",
    "from keras.layers import Dense, Dropout, Flatten\n",
    "from keras.layers import Conv2D, MaxPooling2D\n",
    "from keras.utils import np_utils\n",
    "\n",
    "import numpy as np\n",
    "import matplotlib.pyplot as plt\n",
    "from collections import namedtuple"
   ]
  },
  {
   "cell_type": "code",
   "execution_count": 2,
   "metadata": {},
   "outputs": [
    {
     "name": "stdout",
     "output_type": "stream",
     "text": [
      "TRAIN X shape:  (60000, 28, 28)\n",
      "TEST X shape:  (10000, 28, 28)\n"
     ]
    }
   ],
   "source": [
    "(trainx, trainy), (testx, testy) = mnist.load_data()\n",
    "\n",
    "print('Train Data shape: ', trainx.shape)\n",
    "print('Test Data shape: ', testx.shape)"
   ]
  },
  {
   "cell_type": "code",
   "execution_count": 3,
   "metadata": {},
   "outputs": [],
   "source": [
    "img_dims = namedtuple('img_dims', 'height, width, channels, flat_vec_size')\n",
    "IMG_DIMS = img_dims(height=trainx.shape[1], \n",
    "                    width=trainx.shape[2], \n",
    "                    channels=1, \n",
    "                    flat_vec_size=trainx.shape[1] * trainx.shape[2])\n",
    "\n",
    "# RESHAPING AND REFORMATTING DATA\n",
    "\n",
    "# adding the channel dimension in addition to height and width\n",
    "trainx = trainx.reshape(trainx.shape[0], IMG_DIMS.height, IMG_DIMS.width, IMG_DIMS.channels).astype('float32') \n",
    "testx = testx.reshape(testx.shape[0], IMG_DIMS.height, IMG_DIMS.width, IMG_DIMS.channels).astype('float32')\n",
    "\n",
    "trainy = np_utils.to_categorical(trainy)     # converts classes to one-hot encoding\n",
    "testy = np_utils.to_categorical(testy)\n",
    "\n",
    "# NORMALIZING\n",
    "trainx = trainx / 255.\n",
    "testx = testx / 255."
   ]
  },
  {
   "cell_type": "markdown",
   "metadata": {},
   "source": [
    "### Note: Input to the Conv layers should be NHWC formatted rather than a flattened vector in a Vanilla NN"
   ]
  },
  {
   "cell_type": "code",
   "execution_count": 4,
   "metadata": {},
   "outputs": [],
   "source": [
    "# MODELING\n",
    "model = Sequential()\n",
    "model.add(Conv2D(32, kernel_size=(3, 3), activation='relu', input_shape=(IMG_DIMS.height, IMG_DIMS.width, IMG_DIMS.channels)))\n",
    "model.add(Conv2D(64, kernel_size=(3, 3), activation='relu'))\n",
    "model.add(MaxPooling2D(pool_size=(2, 2)))\n",
    "model.add(Dropout(0.2))\n",
    "model.add(Flatten())\n",
    "model.add(Dense(128, activation='relu'))\n",
    "model.add(Dropout(0.2))\n",
    "model.add(Dense(10, activation='softmax'))\n",
    "\n",
    "model.compile(loss='categorical_crossentropy', optimizer='adam', metrics=['accuracy'])"
   ]
  },
  {
   "cell_type": "code",
   "execution_count": 5,
   "metadata": {},
   "outputs": [
    {
     "name": "stdout",
     "output_type": "stream",
     "text": [
      "Train on 60000 samples, validate on 10000 samples\n",
      "Epoch 1/10\n",
      "60000/60000 [==============================] - 164s 3ms/step - loss: 0.1762 - acc: 0.9461 - val_loss: 0.0452 - val_acc: 0.9852\n",
      "Epoch 2/10\n",
      "60000/60000 [==============================] - 238s 4ms/step - loss: 0.0520 - acc: 0.9837 - val_loss: 0.0407 - val_acc: 0.9854\n",
      "Epoch 3/10\n",
      "60000/60000 [==============================] - 216s 4ms/step - loss: 0.0374 - acc: 0.9884 - val_loss: 0.0381 - val_acc: 0.9886\n",
      "Epoch 4/10\n",
      "60000/60000 [==============================] - 189s 3ms/step - loss: 0.0281 - acc: 0.9913 - val_loss: 0.0361 - val_acc: 0.9881\n",
      "Epoch 5/10\n",
      "60000/60000 [==============================] - 167s 3ms/step - loss: 0.0235 - acc: 0.9925 - val_loss: 0.0296 - val_acc: 0.9899\n",
      "Epoch 6/10\n",
      "60000/60000 [==============================] - 162s 3ms/step - loss: 0.0176 - acc: 0.9939 - val_loss: 0.0338 - val_acc: 0.9900\n",
      "Epoch 7/10\n",
      "60000/60000 [==============================] - 161s 3ms/step - loss: 0.0142 - acc: 0.9953 - val_loss: 0.0380 - val_acc: 0.9901\n",
      "Epoch 8/10\n",
      "60000/60000 [==============================] - 174s 3ms/step - loss: 0.0135 - acc: 0.9952 - val_loss: 0.0330 - val_acc: 0.9903\n",
      "Epoch 9/10\n",
      "60000/60000 [==============================] - 165s 3ms/step - loss: 0.0112 - acc: 0.9961 - val_loss: 0.0379 - val_acc: 0.9907\n",
      "Epoch 10/10\n",
      "60000/60000 [==============================] - 169s 3ms/step - loss: 0.0118 - acc: 0.9960 - val_loss: 0.0304 - val_acc: 0.9912\n"
     ]
    }
   ],
   "source": [
    "# TRAINING\n",
    "epochs=10\n",
    "history = model.fit(trainx, trainy, batch_size=128, epochs=epochs, validation_data=(testx, testy))"
   ]
  },
  {
   "cell_type": "code",
   "execution_count": 6,
   "metadata": {},
   "outputs": [
    {
     "data": {
      "text/plain": [
       "<matplotlib.legend.Legend at 0x10ec9d0b8>"
      ]
     },
     "execution_count": 6,
     "metadata": {},
     "output_type": "execute_result"
    },
    {
     "data": {
      "image/png": "[encoded data removed]",
      "text/plain": [
       "<Figure size 432x288 with 1 Axes>"
      ]
     },
     "metadata": {
      "needs_background": "light"
     },
     "output_type": "display_data"
    }
   ],
   "source": [
    "plt.plot(range(epochs), history.history['loss'], label='Training Loss')\n",
    "plt.plot(range(epochs), history.history['val_loss'], label='Test Loss')\n",
    "plt.legend(loc='upper right')"
   ]
  },
  {
   "cell_type": "code",
   "execution_count": 7,
   "metadata": {},
   "outputs": [
    {
     "data": {
      "text/plain": [
       "<matplotlib.legend.Legend at 0x1324edf28>"
      ]
     },
     "execution_count": 7,
     "metadata": {},
     "output_type": "execute_result"
    },
    {
     "data": {
      "image/png": "[encoded data removed]",
      "text/plain": [
       "<Figure size 432x288 with 1 Axes>"
      ]
     },
     "metadata": {
      "needs_background": "light"
     },
     "output_type": "display_data"
    }
   ],
   "source": [
    "plt.plot(range(epochs), history.history['acc'], label='Training Accuracy')\n",
    "plt.plot(range(epochs), history.history['val_acc'], label='Test Accuracy')\n",
    "plt.legend(loc='lower right')"
   ]
  },
  {
   "cell_type": "markdown",
   "metadata": {},
   "source": [
    "### Final Training Loss: 0.0118\n",
    "### Final Test Loss: 0.0304\n",
    "\n",
    "### Final Training Accuracy: 99.60%\n",
    "### Final Test Accuracy: 99.12%"
   ]
  }
 ],
 "metadata": {
  "kernelspec": {
   "display_name": "Python 3",
   "language": "python",
   "name": "python3"
  },
  "language_info": {
   "codemirror_mode": {
    "name": "ipython",
    "version": 3
   },
   "file_extension": ".py",
   "mimetype": "text/x-python",
   "name": "python",
   "nbconvert_exporter": "python",
   "pygments_lexer": "ipython3",
   "version": "3.6.8"
  }
 },
 "nbformat": 4,
 "nbformat_minor": 2
}
